{
 "cells": [
  {
   "cell_type": "markdown",
   "id": "a4e97256",
   "metadata": {},
   "source": [
    "# **Lab Exercise: Linear and Logistic Regression**"
   ]
  },
  {
   "cell_type": "markdown",
   "id": "5f13e57d-2212-4089-9e8d-0776dfba9eb7",
   "metadata": {},
   "source": [
    "## **Linear Regression Construction** "
   ]
  },
  {
   "cell_type": "markdown",
   "id": "4f702d80",
   "metadata": {},
   "source": [
    "#### **Section 1: Setting Up and Importing Libraries**\n",
    "*Objective:* Load the required `Python libraries`.\n"
   ]
  },
  {
   "cell_type": "code",
   "execution_count": 3,
   "id": "8b5c3769-8e6d-4774-86db-612a37163e71",
   "metadata": {},
   "outputs": [],
   "source": [
    "import numpy as np\n",
    "import pandas as pd\n",
    "import matplotlib.pyplot as plt"
   ]
  },
  {
   "cell_type": "markdown",
   "id": "ce42d797-2458-4e79-9c04-ff6264334aa1",
   "metadata": {},
   "source": [
    "#### **Section 2: Linear Regression Data Preparation**\n",
    "\n",
    "*Objective:* Create a dataset for linear regression.\n",
    "\n",
    "Task: Write the code to:\n",
    "\n",
    "Create a dataset with features and target variables for linear regression.\n",
    "Visualize the data using Matplotlib.\n"
   ]
  },
  {
   "cell_type": "code",
   "execution_count": 8,
   "id": "6eb0752f-ad50-42a9-8a61-ccb8e56408c8",
   "metadata": {},
   "outputs": [
    {
     "data": {
      "image/png": "[encoded data removed]",
      "text/plain": [
       "<Figure size 640x480 with 1 Axes>"
      ]
     },
     "metadata": {},
     "output_type": "display_data"
    }
   ],
   "source": [
    "# Generate synthetic data for linear regression\n",
    "np.random.seed(42)  # For reproducibility\n",
    "X = np.random.randint(1, 100, 20)  # Features (independent variable)\n",
    "y = 3 * X + 7 + np.random.normal(0, 15, 20)  # Target with noise\n",
    "\n",
    "# Visualize the data\n",
    "%matplotlib inline\n",
    "\n",
    "# You need to use scatter chart to Visualize the input dataset X & y\n",
    "# Your chart need to label the x-axis, y-axis and title\n",
    "# Your chart should use grid\n",
    "plt.scatter(X,y, color ='blue', label='Actual')\n",
    "plt.title('<Hieu Luong> + Features vs Target')\n",
    "plt.xlabel('Features')\n",
    "plt.ylabel('Target')\n",
    "\n",
    "plt.grid(True)\n",
    "plt.show()\n",
    "# Your code\n"
   ]
  },
  {
   "cell_type": "markdown",
   "id": "796b61db-a62b-49b8-9469-759c4d606496",
   "metadata": {},
   "source": [
    "#### **Section 3: Implementing Linear Regression**\n",
    "\n",
    "*Objective:* Practice linear regression construction.\n",
    "\n",
    "Task: Write the code to:\n",
    "\n",
    "Write a Linear Regression function to minimize the cost function and find the optimal parameters.\n",
    "\n",
    "\n",
    "For **Undergraduate students** (CS457): You can **choose** any of the following methods to implement it.\n",
    "1. You can use any scikit-learn library.\n",
    "2. Manually write cost function & gradient descent function to implement it.\n",
    "\n",
    "For **Graduate students** (CS557): You have to implement it by\n",
    "1. Manually write cost function & gradient descent function to implement it.\n"
   ]
  },
  {
   "cell_type": "code",
   "execution_count": 8,
   "id": "569087ba-89de-4a5e-94f2-fba6d1ee4580",
   "metadata": {},
   "outputs": [
    {
     "name": "stdout",
     "output_type": "stream",
     "text": [
      "84.44987330799493\n",
      "[0.20289058]\n"
     ]
    }
   ],
   "source": [
    "# Your code for linear regression model\n",
    "\n",
    "# Sklearn model\n",
    "from sklearn import linear_model\n",
    "np.random.seed(30)\n",
    "\n",
    "X_train =np.random.randint(1, 150,30).reshape(-1,1)\n",
    "y_train= np.random.randint(1,180,30)\n",
    "\n",
    "# Prepare data\n",
    "model = linear_model.LinearRegression()\n",
    "\n",
    "model.fit(X_train,y_train)\n",
    "\n",
    "print(model.intercept_)\n",
    "print(model.coef_)\n",
    "\n",
    "# Building the Model\n",
    "\n",
    "# Review Model parameter "
   ]
  },
  {
   "cell_type": "code",
   "execution_count": 10,
   "id": "0a60ce07-9050-4863-9a88-f538137313fd",
   "metadata": {},
   "outputs": [
    {
     "name": "stdout",
     "output_type": "stream",
     "text": [
      "Optimized theta (parameters): [10.38654414  0.93144562]\n",
      "Final cost: 2368.8756165794607\n"
     ]
    }
   ],
   "source": [
    "# Your code for linear regression model\n",
    "\n",
    "# Manually write cost function & gradient descent \n",
    "\n",
    "# Reshape X to include a bias term (column of ones for the intercept) by np.column_stack\n",
    "# your code\n",
    "X = np.column_stack((np.ones(X.shape[0]),X))\n",
    "# Define the cost function for linear regression\n",
    "def compute_cost(X, y, theta):\n",
    "    \"\"\"\n",
    "    Compute the cost function for linear regression.\n",
    "    \"\"\"\n",
    "    m = len(y)\n",
    "    predict = X @ theta\n",
    "    errors = predict - y\n",
    "    cost = (1/(2 *m)) * np.sum(errors **2)\n",
    "\n",
    "    return cost\n",
    "    \n",
    "   \n",
    "\n",
    "# Define the gradient descent function\n",
    "def gradient_descent(X, y, alpha, iterations):\n",
    "    \"\"\"\n",
    "    Perform gradient descent to minimize the cost function.\n",
    "    \"\"\"\n",
    "    \n",
    "    theta = np.zeros(2)  # Initialize theta (matching number of features)\n",
    "    m = len(y)  # Number of training examples\n",
    "\n",
    "    \n",
    "\n",
    "    # Iterate to update theta with iterations\n",
    "    for i in range(iterations):\n",
    "        t0 = theta[0] - (alpha /m) * np.sum(np.dot(X, theta)-y)\n",
    "\n",
    "        t1 = theta[1] - (alpha/m) * np.sum((np.dot(X, theta) - y) * X[:,1])\n",
    "        theta = np.array([t0,t1])\n",
    "    # your code \n",
    "    \n",
    "\n",
    "    return theta\n",
    "    \n",
    "\n",
    "\n",
    "# Number of iterations for gradient descent\n",
    "iterations = 5000\n",
    "\n",
    "# Learning rate for gradient descent\n",
    "alpha = 0.0001\n",
    "\n",
    "# Call the gradient descent function to compute optimized parameters\n",
    "theta = gradient_descent(X,y, alpha, iterations)\n",
    "\n",
    "# Compute the cost using the optimized parameters\n",
    "cost = compute_cost(X,y,theta)\n",
    "\n",
    "# Print the results\n",
    "print(\"Optimized theta (parameters):\", theta)  # Optimized values for theta (intercept and slope)\n",
    "print(\"Final cost:\", cost)  # Final cost value to evaluate the fit"
   ]
  },
  {
   "cell_type": "markdown",
   "id": "7e9c2e68-0803-43b1-ac8c-8ca765d61b85",
   "metadata": {},
   "source": [
    "### **Section 4: Visualizing the Linear Regression Line**\n",
    "\n",
    "*Objective:* Plot the regression line with the original data.\n",
    "\n",
    "Task: Plot the data points and the fitted regression line."
   ]
  },
  {
   "cell_type": "code",
   "execution_count": 18,
   "id": "c1af75b3-958b-471a-90b2-1a9c6d40841c",
   "metadata": {},
   "outputs": [
    {
     "data": {
      "image/png": "[encoded data removed]",
      "text/plain": [
       "<Figure size 800x400 with 1 Axes>"
      ]
     },
     "metadata": {},
     "output_type": "display_data"
    }
   ],
   "source": [
    "# Compare predictions with actual values\n",
    "y_pre = np.dot(X, theta)\n",
    "\n",
    "\n",
    "# Plot the data and regression line\n",
    "plt.figure(figsize=(8,4))\n",
    "plt.scatter(X[:,1], y, color='red', label = \"Actual Data\")\n",
    "plt.plot(X[:,1], y_pre, color='green', linewidth = 1, label=\"Regression Line\")\n",
    "plt.xlabel(\"Feature\")\n",
    "plt.ylabel(\"Target\")\n",
    "plt.legend()\n",
    "plt.title(\"<Hieu Luong> + Linear Regression Line\")\n",
    "plt.grid(True)\n",
    "plt.show()\n",
    "\n",
    "# You need to use scatter chart to Visualize the input dataset X & y\n",
    "# Your chart should plot the regression line using theta_optimal predictions \n",
    "# Your chart need to label the x-axis, y-axis and title\n",
    "# Your chart should use grid\n",
    "# Please add your name to the graph title\n",
    "\n",
    "# Your code: "
   ]
  },
  {
   "cell_type": "markdown",
   "id": "d0db4e3a-42a2-4cdc-a4f0-d702babd213a",
   "metadata": {},
   "source": [
    "## **Logistic Regression Construction** "
   ]
  },
  {
   "cell_type": "markdown",
   "id": "52bc9e31-8eea-4939-9f9b-99238a5afbb2",
   "metadata": {},
   "source": [
    "#### **Section 1: Logistic Regression Data Preparation**\n",
    "\n",
    "*Objective:* Prepare data for logistic regression.\n",
    "\n",
    "Task: Write the code to:\n",
    "\n",
    "Create synthetic data for binary classification.\n",
    "Visualize the data."
   ]
  },
  {
   "cell_type": "markdown",
   "id": "5576a731-78cc-45a5-aaba-0a327a833314",
   "metadata": {},
   "source": [
    "#### Dataset Description\n",
    "\n",
    "Study_hour_Data.csv - The dataset simulates a scenario where students' chances of passing a course are influenced by their study habits and class participation. It contains 200 observations and the following three columns:\n",
    "\n",
    "\n",
    "**Hours of Study:**\n",
    "Integer values representing the number of hours a student spends studying in a week.\n",
    "Range: 0 to 9.\n",
    "\n",
    "**Class Participation:**\n",
    "Float values between 0 and 1, representing the level of engagement in class activities.\n",
    "Higher values indicate greater participation.\n",
    "\n",
    "**Passed:**\n",
    "Binary target variable indicating whether the student passed the course:\n",
    "1: Passed.\n",
    "0: Did not pass.\n",
    "Determined based on a weighted combination of Hours of Study and Class Participation (with added noise), with a threshold value of 5."
   ]
  },
  {
   "cell_type": "code",
   "execution_count": 59,
   "id": "ddb97210-5bc9-41b9-ae6c-52c1dd6d517c",
   "metadata": {},
   "outputs": [
    {
     "name": "stdout",
     "output_type": "stream",
     "text": [
      "<class 'pandas.core.frame.DataFrame'>\n",
      "RangeIndex: 200 entries, 0 to 199\n",
      "Data columns (total 3 columns):\n",
      " #   Column               Non-Null Count  Dtype  \n",
      "---  ------               --------------  -----  \n",
      " 0   Hours of Study       200 non-null    int64  \n",
      " 1   Class Participation  200 non-null    float64\n",
      " 2   Passed               200 non-null    int64  \n",
      "dtypes: float64(1), int64(2)\n",
      "memory usage: 4.8 KB\n",
      "None\n",
      "       Hours of Study  Class Participation      Passed\n",
      "count      200.000000           200.000000  200.000000\n",
      "mean         4.115000             0.505828    0.750000\n",
      "std          2.751295             0.289315    0.434099\n",
      "min          0.000000             0.009934    0.000000\n",
      "25%          2.000000             0.248919    0.750000\n",
      "50%          4.000000             0.492630    1.000000\n",
      "75%          6.000000             0.771555    1.000000\n",
      "max          9.000000             0.992191    1.000000\n"
     ]
    }
   ],
   "source": [
    "import pandas as pd\n",
    "#read data from Pandas \n",
    "\n",
    "# Load dataset\n",
    "# please use Study_hour_Data.csv as your target data\n",
    "data = pd.read_csv(\"Study_hour_Data.csv\")\n",
    "data.head(15)\n",
    "\n",
    "# Display basic information\n",
    "print(data.info())\n",
    "print(data.describe())\n",
    "\n",
    "#Generate your training data X & y\n",
    "X = data[['Hours of Study']].value #use column Hours of Study\n",
    "y =  data['Passed'].value\n"
   ]
  },
  {
   "cell_type": "markdown",
   "id": "ee3884a0-0234-49c0-b9c2-039d80f3c444",
   "metadata": {},
   "source": [
    "#### **Section 2: Visualize the data**"
   ]
  },
  {
   "cell_type": "code",
   "execution_count": 45,
   "id": "7c8183a3-e11b-46c0-9ddf-bdee3cc0bce8",
   "metadata": {},
   "outputs": [
    {
     "data": {
      "image/png": "[encoded data removed]",
      "text/plain": [
       "<Figure size 900x300 with 1 Axes>"
      ]
     },
     "metadata": {},
     "output_type": "display_data"
    }
   ],
   "source": [
    "# Visualize the data\n",
    "\n",
    "# You need to use scatter chart to Visualize the input dataset X & y\n",
    "# Your chart need to label the x-axis, y-axis and title\n",
    "# Your chart should use grid\n",
    "# Please add your name to the graph title\n",
    "\n",
    "\n",
    "\n",
    "# Your code: \n",
    "plt.figure(figsize=(9,3))\n",
    "plt.scatter(X, y, color='blue', marker='+')\n",
    "plt.xlabel(\"Hours of Study\")\n",
    "plt.ylabel(\"Passed\")\n",
    "plt.title('<Hieu Luong> + Study hours vs Passed')\n",
    "plt.grid(True)\n",
    "\n",
    "plt.show()\n"
   ]
  },
  {
   "cell_type": "markdown",
   "id": "5317d5a8-c76a-46a3-ab2a-a9ce54b1e51f",
   "metadata": {},
   "source": [
    "#### **Section 3: Implementing Logistic Regression**\n",
    "\n",
    "*Objective:* Implement logistic regression.\n",
    "\n",
    "For **Undergraduate students** (CS457): You can **choose** any of the following methods to implement it.\n",
    "1. You can use any scikit-learn library.\n",
    "2. Manually write cost function & gradient descent function to implement it. \n",
    "\n",
    "For **Graduate students** (CS557): You have to implement it by\n",
    "1. Manually write cost function & gradient descent function to implement it.\n",
    "\n",
    "\n",
    "Then, use the scipy.optimize library to fit the logistic regression model."
   ]
  },
  {
   "cell_type": "code",
   "execution_count": 61,
   "id": "033c773f-d7e2-4a2a-90b2-4ccbb583df56",
   "metadata": {},
   "outputs": [
    {
     "name": "stdout",
     "output_type": "stream",
     "text": [
      "Model Coefficient: 2.7181051181774083\n"
     ]
    }
   ],
   "source": [
    "# Your code for logistic regression model\n",
    "\n",
    "# Sklearn model\n",
    "from sklearn.linear_model import LogisticRegression\n",
    "from sklearn.model_selection import train_test_split\n",
    "from sklearn.metrics import accuracy_score, confusion_matrix\n",
    "\n",
    "X = data[['Hours of Study']].values #use column Hours of Study\n",
    "y =  data['Passed'].values \n",
    "\n",
    "X_train, X_test, y_train, y_test= train_test_split(X,y,train_size=0.8)\n",
    "\n",
    "model =LogisticRegression()\n",
    "model.fit(X_train, y_train)\n",
    "\n",
    "print(\"Model Coefficient:\", model.coef_[0][0])\n",
    "\n",
    "\n",
    "\n",
    "\n",
    "# Prepare data\n",
    "\n",
    "\n",
    "# Building the Model\n",
    "\n",
    "# Review Model parameter "
   ]
  },
  {
   "cell_type": "code",
   "execution_count": 53,
   "id": "4623ce3e-1131-4f91-b9f5-33e6258b1bd9",
   "metadata": {},
   "outputs": [],
   "source": [
    "# Your logistic regression model\n",
    "\n",
    "# Define the sigmoid function\n",
    "def sigmoid(z):\n",
    "    return 1/(1+ np.exp(-z))\n",
    "    \n",
    "     \n",
    "\n",
    "# Define the cost function for logistic regression\n",
    "def cost_function(theta, X, y):\n",
    "    m =len(y)\n",
    "    h= sigmoid(X.dot(theta))\n",
    "    cost = -(1/m) *(y.dot(np.log(h)) +(1-y).dot(np.log(1-h)))\n",
    "    return cost   \n",
    "\n",
    "# Define the gradient function\n",
    "def gradient(theta, X, y):\n",
    "    m = len(y)\n",
    "    h = sigmoid(X.dot(theta))\n",
    "    gradient = (1/m) * X.T.dot(h-y)\n",
    "    \n",
    "    "
   ]
  },
  {
   "cell_type": "code",
   "execution_count": 65,
   "id": "3e835e8c-8d87-4630-95ac-2fd002683d82",
   "metadata": {},
   "outputs": [
    {
     "name": "stdout",
     "output_type": "stream",
     "text": [
      "Optimized theta (parameters): [-9.50575918  5.13806219]\n"
     ]
    },
    {
     "name": "stderr",
     "output_type": "stream",
     "text": [
      "/var/folders/03/c7zh9p9543d9km4rg4w30lv00000gn/T/ipykernel_31439/475301067.py:13: RuntimeWarning: divide by zero encountered in log\n",
      "  cost = -(1/m) *(y.dot(np.log(h)) +(1-y).dot(np.log(1-h)))\n"
     ]
    }
   ],
   "source": [
    "\n",
    "# Train your model\n",
    "from scipy.optimize import minimize\n",
    "\n",
    "\n",
    "def train(X,y):\n",
    "    #Reshape X to include a bias term intercept\n",
    "    X= np.column_stack((np.ones(len(X)),X))\n",
    "\n",
    "    theta = np.zeros(X.shape[1])\n",
    "\n",
    "    result = minimize(fun=cost_function, x0=theta, args=(X, y), method='TNC', jac=gradient, options = {'maxfun': 4000})\n",
    "# Add a bias term (intercept) to X \n",
    "    return result.x\n",
    "    \n",
    "# Initialize theta (parameters) to zeros\n",
    "\n",
    "optimal_theta = train(X_train, y_train)\n",
    "\n",
    "# Minimize the cost function using scipy.optimize\n",
    "\n",
    "\n",
    "# Print the optimized parameters (theta)\n",
    "print(\"Optimized theta (parameters):\", optimal_theta)"
   ]
  },
  {
   "cell_type": "markdown",
   "id": "3c5beb99-6509-4a52-9f6e-f83ff2773ce3",
   "metadata": {},
   "source": [
    "#### **Section 4: Evaluate the model**\n",
    "\n",
    "*Objective:* Evaluate the model with the fitted data.\n",
    "\n",
    "Task: build the Predict function, and Calculate accuracy."
   ]
  },
  {
   "cell_type": "code",
   "execution_count": 66,
   "id": "a69d76b1-c489-475b-bedb-baa20ecad40c",
   "metadata": {},
   "outputs": [
    {
     "data": {
      "text/plain": [
       "array([0, 1, 1, 1, 1, 1, 1, 0, 0, 1, 1, 1, 1, 1, 0, 1, 1, 1, 1, 1, 1, 1,\n",
       "       1, 1, 0, 1, 1, 1, 0, 1, 1, 1, 1, 1, 1, 1, 1, 0, 0, 1])"
      ]
     },
     "execution_count": 66,
     "metadata": {},
     "output_type": "execute_result"
    }
   ],
   "source": [
    "# Predict function\n",
    "def predict(X, theta):\n",
    "    probabilities = sigmoid(X.dot(theta))\n",
    "    return (probabilities >= 0.5).astype(int)\n",
    "    # your code\n",
    "    \n",
    "\n",
    "# Make predictions\n",
    "X_test_A = np.column_stack((np.ones(len(X_test)),X_test))\n",
    "predictions = predict(X_test_A, optimal_theta)\n",
    "predictions"
   ]
  },
  {
   "cell_type": "code",
   "execution_count": 67,
   "id": "336aa148-2d43-47d3-83e7-e8bd260f0f76",
   "metadata": {},
   "outputs": [
    {
     "name": "stdout",
     "output_type": "stream",
     "text": [
      "Accuracy: 90.0 %\n"
     ]
    }
   ],
   "source": [
    "# Calculate accuracy\n",
    "accuracy = np.mean(predictions == y_test) *100\n",
    "print(\"Accuracy:\", accuracy, \"%\")"
   ]
  },
  {
   "cell_type": "markdown",
   "id": "d45ba386-8248-41f5-9112-0ba46875eda5",
   "metadata": {},
   "source": [
    "### **Section 5: Visualizing Logistic Regression Fit**\n",
    "\n",
    "*Objective:* Plot the logistic regression fit with the original data.\n",
    "\n",
    "Task: Plot the sigmoid curve over the range of input features."
   ]
  },
  {
   "cell_type": "code",
   "execution_count": 68,
   "id": "7f29587c-cd62-4ea6-9226-ea904016778b",
   "metadata": {},
   "outputs": [
    {
     "data": {
      "text/plain": [
       "Text(0, 0.5, 'Passed')"
      ]
     },
     "execution_count": 68,
     "metadata": {},
     "output_type": "execute_result"
    },
    {
     "data": {
      "image/png": "[encoded data removed]",
      "text/plain": [
       "<Figure size 800x600 with 1 Axes>"
      ]
     },
     "metadata": {},
     "output_type": "display_data"
    }
   ],
   "source": [
    "# Plot the data and regression line\n",
    "# You need to use scatter chart to Visualize the input dataset X & y\n",
    "# Your chart should plot the regression line using theta_optimal predictions \n",
    "# Your chart need to label the x-axis, y-axis and title\n",
    "# Your chart should use grid\n",
    "# Please add your name to the graph title\n",
    "plt.figure(figsize=(8,6))\n",
    "plt.scatter(X,y, color = 'blue', label='Actual Data')\n",
    "X_values = np.linspace(X.min(), X.max(),100)\n",
    "X_values_bias = np.column_stack((np.ones(len(X_values)), X_values))\n",
    "dec = sigmoid(X_values_bias.dot(optimal_theta))\n",
    "plt.plot(X_values, dec, color = 'red',label='Regression Line'0\n",
    "\n",
    "\n",
    "\n",
    "\n",
    "plt.xlabel(\"Hours of study\")\n",
    "plt.ylabel(\"Passed\")\n",
    "plt.title('<Hieu Luong> + Logistic Regression: Hours of Study vs  Passed')\n",
    "plt.legend()\n",
    "plt.grid()\n",
    "plt.show()\n"
   ]
  },
  {
   "cell_type": "code",
   "execution_count": null,
   "id": "27191b69-a42c-40df-ab8e-a3ed86abc7a5",
   "metadata": {},
   "outputs": [],
   "source": []
  }
 ],
 "metadata": {
  "kernelspec": {
   "display_name": "Python 3 (ipykernel)",
   "language": "python",
   "name": "python3"
  },
  "language_info": {
   "codemirror_mode": {
    "name": "ipython",
    "version": 3
   },
   "file_extension": ".py",
   "mimetype": "text/x-python",
   "name": "python",
   "nbconvert_exporter": "python",
   "pygments_lexer": "ipython3",
   "version": "3.11.11"
  }
 },
 "nbformat": 4,
 "nbformat_minor": 5
}
